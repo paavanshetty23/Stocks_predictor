
import numpy as np
import pandas as pd
from sklearn.preprocessing import MinMaxScaler
from tensorflow.keras.models import Sequential
from tensorflow.keras.layers import LSTM, Dense
import matplotlib.pyplot as plt

df = pd.read_csv('portfolio_data.csv', parse_dates=['Date'])
target_date = '2022-07-23'
target_column = 'AMZN'

df = df.sort_values('Date')
training_data = df.iloc[:1520]

scaler = MinMaxScaler()
data_scaled = scaler.fit_transform(training_data[[target_column]])

sequence_length = 60
X, y = [], []
for i in range(sequence_length, 1520):
    X.append(data_scaled[i-sequence_length:i, 0])
    y.append(data_scaled[i, 0])

X, y = np.array(X), np.array(y)
X = np.reshape(X, (X.shape[0], X.shape[1], 1))

model = Sequential([
    LSTM(units=50, return_sequences=True, input_shape=(X.shape[1], 1)),
    LSTM(units=50),
    Dense(units=1)
])

model.compile(optimizer='adam', loss='mean_squared_error')
model.fit(X, y, epochs=10, batch_size=32)

target_date = pd.to_datetime(target_date)
future_data = df[df['Date'] <= target_date]
future_data_scaled = scaler.transform(future_data[[target_column]])

prediction_sequence = future_data_scaled[-sequence_length:, 0]
prediction_sequence = np.reshape(prediction_sequence, (1, sequence_length, 1))

predicted_price_scaled = model.predict(prediction_sequence)
predicted_price = scaler.inverse_transform(predicted_price_scaled.reshape(-1, 1))

print(f"Predicted {target_column} price for {target_date.strftime('%Y-%m-%d')}: ${predicted_price[0][0]:.2f}")

plt.figure(figsize=(10, 6))
plt.plot(future_data['Date'], future_data[target_column], color='blue', label='Historical Prices')
plt.scatter([target_date], [predicted_price[0][0]], color='red', label='Predicted Price')
plt.xlabel('Date')
plt.ylabel(target_column)
plt.title(f'{target_column} Price Prediction for {target_date.strftime("%Y-%m-%d")}')
plt.legend()
plt.grid(True)
plt.xticks(rotation=45)
plt.tight_layout()
plt.show()
